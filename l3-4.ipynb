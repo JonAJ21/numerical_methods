{
 "cells": [
  {
   "cell_type": "code",
   "execution_count": 3,
   "id": "f23092ac",
   "metadata": {},
   "outputs": [],
   "source": [
    "import numpy as np"
   ]
  },
  {
   "cell_type": "code",
   "execution_count": 4,
   "id": "b6b2bf0e",
   "metadata": {},
   "outputs": [],
   "source": [
    "def df(x, y, x_):\n",
    "    assert len(x) == len(y)\n",
    "\n",
    "    for interval in range(len(x)):\n",
    "        if x[interval] <= x_ < x[interval+1]:\n",
    "            i = interval\n",
    "            break\n",
    "\n",
    "    a1 = (y[i+1] - y[i]) / (x[i+1] - x[i])\n",
    "    a2 = ((y[i+2] - y[i+1]) / (x[i+2] - x[i+1]) - a1) / (x[i+2] - x[i]) * (2*x_ - x[i] - x[i+1])\n",
    "\n",
    "    return a1 + a2"
   ]
  },
  {
   "cell_type": "code",
   "execution_count": 5,
   "id": "e4a18ed1",
   "metadata": {},
   "outputs": [],
   "source": [
    "def d2f(x, y, x_):\n",
    "    assert len(x) == len(y)\n",
    "\n",
    "    for interval in range(len(x)):\n",
    "        if x[interval] <= x_ < x[interval+1]:\n",
    "            i = interval\n",
    "            break\n",
    "\n",
    "    num = (y[i+2] - y[i+1]) / (x[i+2] - x[i+1]) - (y[i+1] - y[i]) / (x[i+1] - x[i])\n",
    "\n",
    "    return 2 * num / (x[i+2] - x[i])"
   ]
  },
  {
   "cell_type": "code",
   "execution_count": 6,
   "id": "ca69b7a3",
   "metadata": {},
   "outputs": [
    {
     "name": "stdout",
     "output_type": "stream",
     "text": [
      "f'(1.0) = -0.4117\n",
      "\n",
      "f''(1.0) = 0.1798\n",
      "\n"
     ]
    }
   ],
   "source": [
    "x = np.array([-1.0, 0.0, 1.0, 2.0, 3.0])\n",
    "y = np.array([2.3562, 1.5708, 0.7854, 0.46365, 0.32175])\n",
    "x_ = 1.0\n",
    "\n",
    "print(f\"f'({x_}) = {df(x, y, x_):.4f}\\n\")\n",
    "print(f\"f''({x_}) = {d2f(x, y, x_):.4f}\\n\")"
   ]
  }
 ],
 "metadata": {
  "kernelspec": {
   "display_name": ".venv",
   "language": "python",
   "name": "python3"
  },
  "language_info": {
   "codemirror_mode": {
    "name": "ipython",
    "version": 3
   },
   "file_extension": ".py",
   "mimetype": "text/x-python",
   "name": "python",
   "nbconvert_exporter": "python",
   "pygments_lexer": "ipython3",
   "version": "3.13.2"
  }
 },
 "nbformat": 4,
 "nbformat_minor": 5
}
