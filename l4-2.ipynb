{
 "cells": [
  {
   "cell_type": "code",
   "execution_count": 248,
   "id": "8f0d7cd9",
   "metadata": {},
   "outputs": [],
   "source": [
    "import numpy as np\n",
    "import matplotlib.pyplot as plt"
   ]
  },
  {
   "cell_type": "code",
   "execution_count": 249,
   "id": "7f87cc7d",
   "metadata": {},
   "outputs": [],
   "source": [
    "def runge_kutta_method(f, g, l, r, h, y0, z0):\n",
    "    n = int((r - l) / h) + 1\n",
    "    x = [0] * n\n",
    "    y = [0] * n\n",
    "    z = [0] * n\n",
    "    x[0] = l\n",
    "    y[0] = y0\n",
    "    z[0] = z0\n",
    "    \n",
    "    for i in range(n-1):\n",
    "        K1 = h * f(x[i], y[i], z[i])\n",
    "        L1 = h * g(x[i], y[i], z[i])\n",
    "        K2 = h * f(x[i] + h / 2, y[i] + K1 / 2, z[i] + L1 / 2)\n",
    "        L2 = h * g(x[i] + h / 2, y[i] + K1 / 2, z[i] + L1 / 2)\n",
    "        K3 = h * f(x[i] + h / 2, y[i] + K2 / 2, z[i] + L2 / 2)\n",
    "        L3 = h * g(x[i] + h / 2, y[i] + K2 / 2, z[i] + L2 / 2)\n",
    "        K4 = h * f(x[i] + h, y[i] + K3, z[i] + L3)\n",
    "        L4 = h * g(x[i] + h, y[i] + K3, z[i] + L3)\n",
    "        dy = (K1 + 2 * K2 + 2 * K3 + K4) / 6\n",
    "        dz = (L1 + 2 * L2 + 2 * L3 + L4) / 6\n",
    "        x[i + 1] = x[i] + h\n",
    "        y[i + 1] = y[i] + dy\n",
    "        z[i + 1] = z[i] + dz\n",
    "\n",
    "    return x, y, z"
   ]
  },
  {
   "cell_type": "code",
   "execution_count": 250,
   "id": "c621ef4b",
   "metadata": {},
   "outputs": [],
   "source": [
    "def runge_romberg(y1, y2, k, p):\n",
    "    res = 0\n",
    "    c = 1 / (k ** p + 1)\n",
    "\n",
    "    for i in range(len(y1)):\n",
    "        res = max(res, c * abs(y1[i] - y2[i*k]))\n",
    "\n",
    "    return res"
   ]
  },
  {
   "cell_type": "code",
   "execution_count": 251,
   "id": "aae8db72",
   "metadata": {},
   "outputs": [],
   "source": [
    "def max_abs_error(y1, y2):\n",
    "    res = 0\n",
    "\n",
    "    for i in range(len(y1)):\n",
    "        res = max(res, abs(y1[i] - y2[i]))\n",
    "\n",
    "    return res"
   ]
  },
  {
   "cell_type": "code",
   "execution_count": 252,
   "id": "21c48197",
   "metadata": {},
   "outputs": [],
   "source": [
    "def tridiagonal_solve(a, b, c, d) -> np.ndarray:\n",
    "    n = len(d)\n",
    "    p = np.ndarray(n, dtype=float)\n",
    "    q = np.ndarray(n, dtype=float)\n",
    "    x = np.ndarray(n, dtype=float)\n",
    "\n",
    "    p[0] = -c[0] / b[0]\n",
    "    q[0] = d[0] / b[0]\n",
    "\n",
    "    for i in range(1, n):\n",
    "        p[i] = -c[i] / (b[i] + a[i]*p[i-1])\n",
    "        q[i] = (d[i] - a[i]*q[i-1]) / (b[i] + a[i]*p[i-1])\n",
    "\n",
    "    x[-1] = q[-1]\n",
    "\n",
    "    for i in range(n-2, -1, -1):\n",
    "        x[i] = p[i] * x[i+1] + q[i]\n",
    "\n",
    "    return x"
   ]
  },
  {
   "cell_type": "code",
   "execution_count": 253,
   "id": "e56e12cc",
   "metadata": {},
   "outputs": [],
   "source": [
    "def shooting_method(f, g, a, b, h, alpha, beta, delta, gamma, y0, y1, eta0, eta1, eps):\n",
    "    def get_z0(eta):\n",
    "        return (y0 - alpha * eta) / beta\n",
    "\n",
    "    while True:\n",
    "        _, y_s0, z_s0 = runge_kutta_method(f, g, a, b, h, eta0, get_z0(eta0))\n",
    "        x_s1, y_s1, z_s1 = runge_kutta_method(f, g, a, b, h, eta1, get_z0(eta1))\n",
    "\n",
    "        phi0 = delta * y_s0[-1] + gamma * z_s0[-1] - y1\n",
    "        phi1 = delta * y_s1[-1] + gamma * z_s1[-1] - y1\n",
    "\n",
    "        eta2 = eta1 - (eta1 - eta0) / (phi1 - phi0) * phi1\n",
    "\n",
    "        if abs(eta2 - eta1) < eps:\n",
    "            return x_s1, y_s1, z_s1\n",
    "\n",
    "        eta0, eta1 = eta1, eta2"
   ]
  },
  {
   "cell_type": "code",
   "execution_count": 254,
   "id": "80143a68",
   "metadata": {},
   "outputs": [],
   "source": [
    "def finite_difference_method(f, p, q, l, r, h, alpha, beta, delta, gamma, y0_, y1_):\n",
    "    n = int((r - l) / h)\n",
    "    xk = [l + h * i for i in range(n+1)]\n",
    "    a, b, c, d = [0]*(n+1), [0]*(n+1), [0]*(n+1), [0]*(n+1)\n",
    "\n",
    "    b[0] = h * alpha - beta\n",
    "    c[0] = beta\n",
    "    d[0] = h * y0_\n",
    "    a[-1] = -gamma\n",
    "    b[-1] = h * delta + gamma\n",
    "    d[-1] = h * y1_\n",
    "\n",
    "    for i in range(1, n):\n",
    "        if xk[i] == 0:\n",
    "            a[i] = 1\n",
    "            b[i] = -2 + h**2 * q(xk[i])\n",
    "            c[i] = 1\n",
    "        else:\n",
    "            a[i] = 1 - p(xk[i]) * h / 2\n",
    "            b[i] = -2 + h**2 * q(xk[i])\n",
    "            c[i] = 1 + p(xk[i]) * h / 2\n",
    "        d[i] = h**2 * f(xk[i])\n",
    "\n",
    "    yk = tridiagonal_solve(a, b, c, d)\n",
    "    return xk, yk"
   ]
  },
  {
   "cell_type": "code",
   "execution_count": 255,
   "id": "4cd35f56",
   "metadata": {},
   "outputs": [],
   "source": [
    "f = lambda x, y, z: z\n",
    "fx = lambda x: 0"
   ]
  },
  {
   "cell_type": "code",
   "execution_count": 256,
   "id": "3e9f2a01",
   "metadata": {},
   "outputs": [],
   "source": [
    "g = lambda x, y, z: ((2 * x + 1) * z - (x + 1) * y) / x if x != 0 else 0\n",
    "p = lambda x: (-(2 * x + 1) / x) if x != 0 else 0\n",
    "q = lambda x: ((x + 1) / x) if x != 0 else 0\n",
    "real_f = lambda x: np.exp(x) * (x ** 2 + 1) "
   ]
  },
  {
   "cell_type": "code",
   "execution_count": null,
   "id": "155ba281",
   "metadata": {},
   "outputs": [],
   "source": [
    "a = 0\n",
    "b = 1\n",
    "alpha = 0\n",
    "beta = 1\n",
    "delta = -2\n",
    "gamma = 1\n",
    "y0 = 1\n",
    "y1 = 0\n",
    "h = 0.005\n",
    "eps = 1e-9\n",
    "eta0 = 1\n",
    "eta1 = 0.8"
   ]
  },
  {
   "cell_type": "code",
   "execution_count": 258,
   "id": "d4bde755",
   "metadata": {},
   "outputs": [
    {
     "data": {
      "image/png": "[encoded data removed]",
      "text/plain": [
       "<Figure size 1200x700 with 1 Axes>"
      ]
     },
     "metadata": {},
     "output_type": "display_data"
    }
   ],
   "source": [
    "real_x = [a+i*h for i in range(int((b-a)/h)+1)]\n",
    "real_y = list(map(real_f, real_x))\n",
    "\n",
    "shooting_x1, shooting_y1, _ = shooting_method(f, g, a, b, h, alpha, beta, delta, gamma, y0, y1, eta0, eta1, eps)\n",
    "_, shooting_y2, _ = shooting_method(f, g, a, b, h/2, alpha, beta, delta, gamma, y0, y1, eta0, eta1, eps)\n",
    "\n",
    "finite_diff_x1, finite_diff_y1 = finite_difference_method(fx, p, q, a, b, h, alpha, beta, delta, gamma, y0, y1)\n",
    "_, finite_diff_y2 = finite_difference_method(fx, p, q, a, b, h/2, alpha, beta, delta, gamma, y0, y1)\n",
    "\n",
    "shooting_er_rr = runge_romberg(shooting_y1, shooting_y2, 2, 4)\n",
    "finite_diff_er_rr = runge_romberg(finite_diff_y1, finite_diff_y2, 2, 4)\n",
    "\n",
    "shooting_er_ma = max_abs_error(shooting_y1, real_y)\n",
    "finite_diff_er_ma = max_abs_error(finite_diff_y1, real_y)\n",
    "    \n",
    "plt.figure(figsize=(12, 7))\n",
    "plt.plot(real_x, real_y, label=\"real\")\n",
    "plt.plot(shooting_x1, shooting_y1, label=\"shooting\")\n",
    "plt.plot(finite_diff_x1, finite_diff_y1, label=\"finite difference\")\n",
    "plt.title('04-02')\n",
    "plt.legend()\n",
    "plt.show()"
   ]
  },
  {
   "cell_type": "code",
   "execution_count": 259,
   "id": "4587c8e4",
   "metadata": {},
   "outputs": [
    {
     "name": "stdout",
     "output_type": "stream",
     "text": [
      "Runge Romberg:\n",
      "\n",
      "Shooting: 0.0018721294523674835\n",
      "\n",
      "Finite difference: 0.0011936892687841006\n",
      "\n",
      "Exact:\n",
      "\n",
      "Shooting: 10.809418923740168\n",
      "\n",
      "Finite difference: 10.91377385235926\n",
      "\n"
     ]
    }
   ],
   "source": [
    "print(\"Runge Romberg:\\n\")\n",
    "print(f\"Shooting: {shooting_er_rr}\\n\")\n",
    "print(f\"Finite difference: {finite_diff_er_rr}\\n\")\n",
    "print(\"Exact:\\n\")\n",
    "print(f\"Shooting: {shooting_er_ma}\\n\")\n",
    "print(f\"Finite difference: {finite_diff_er_ma}\\n\")"
   ]
  }
 ],
 "metadata": {
  "kernelspec": {
   "display_name": ".venv",
   "language": "python",
   "name": "python3"
  },
  "language_info": {
   "codemirror_mode": {
    "name": "ipython",
    "version": 3
   },
   "file_extension": ".py",
   "mimetype": "text/x-python",
   "name": "python",
   "nbconvert_exporter": "python",
   "pygments_lexer": "ipython3",
   "version": "3.13.2"
  }
 },
 "nbformat": 4,
 "nbformat_minor": 5
}
