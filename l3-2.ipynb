{
 "cells": [
  {
   "cell_type": "code",
   "execution_count": 10,
   "id": "f61577e6",
   "metadata": {},
   "outputs": [],
   "source": [
    "import numpy as np\n",
    "import matplotlib.pyplot as plt\n",
    "import re"
   ]
  },
  {
   "cell_type": "code",
   "execution_count": 11,
   "id": "3932e809",
   "metadata": {},
   "outputs": [],
   "source": [
    "def format_polynom(polynom_str):\n",
    "    polynom_str = re.sub('--', '+', polynom_str)\n",
    "    polynom_str = re.sub(r'\\+-', '-', polynom_str)\n",
    "    polynom_str = re.sub('-', ' - ', polynom_str)\n",
    "    polynom_str = re.sub(r'\\+', ' + ', polynom_str)\n",
    "    \n",
    "    return polynom_str"
   ]
  },
  {
   "cell_type": "code",
   "execution_count": 12,
   "id": "b4e49943",
   "metadata": {},
   "outputs": [],
   "source": [
    "def tridiagonal_solve(A, b):\n",
    "    n = len(A)\n",
    "    v = [0 for _ in range(n)]\n",
    "    u = [0 for _ in range(n)]\n",
    "    v[0] = A[0][1] / -A[0][0]\n",
    "    u[0] = b[0] / A[0][0]\n",
    "\n",
    "    for i in range(1, n-1):\n",
    "        v[i] = A[i][2] / (-A[i][1] - A[i][0] * v[i-1])\n",
    "        u[i] = (A[i][0] * u[i-1] - b[i]) / (-A[i][1] - A[i][0] * v[i-1])\n",
    "\n",
    "    v[n-1] = 0\n",
    "    u[n-1] = (A[n-1][1] * u[n-2] - b[n-1]) / (-A[n-1][2] - A[n-1][1] * v[n-2])\n",
    "    x = [0 for _ in range(n)]\n",
    "    x[n-1] = u[n-1]\n",
    "\n",
    "    for i in range(n-1, 0, -1):\n",
    "        x[i-1] = v[i-1] * x[i] + u[i-1]\n",
    "\n",
    "    return x"
   ]
  },
  {
   "cell_type": "code",
   "execution_count": 13,
   "id": "da0ed0fc",
   "metadata": {},
   "outputs": [],
   "source": [
    "def s(a, b, c, d, x):\n",
    "    return a + b * x + c * x**2 + d * x**3\n",
    "\n",
    "def spline_interpolation(x_i, f_i, x_):\n",
    "    assert len(x_i) == len(f_i)\n",
    "\n",
    "    n = len(x_i)\n",
    "    h = [x_i[i] - x_i[i - 1] for i in range(1, len(x_i))]\n",
    "    A = [[0 for _ in range(len(h)-1)] for _ in range(len(h)-1)]\n",
    "    A[0][0] = 2 * (h[0] + h[1])\n",
    "    A[0][1] = h[1]\n",
    "    \n",
    "    for i in range(1, len(A) - 1):\n",
    "        A[i][0] = h[i-1]\n",
    "        A[i][1] = 2 * (h[i-1] + h[i])\n",
    "        A[i][2] = h[i]\n",
    "\n",
    "    A[-1][-2] = h[-2]\n",
    "    A[-1][-1] = 2 * (h[-2] + h[-1])\n",
    "\n",
    "    m = [3.0 * ((f_i[i+1] - f_i[i]) / h[i] - (f_i[i] - f_i[i-1]) / h[i-1])\n",
    "         for i in range(1, len(h))]\n",
    "\n",
    "    c = [0] + tridiagonal_solve(A, m)\n",
    "\n",
    "    a = [f_i[i - 1] for i in range(1, n)]\n",
    "\n",
    "    b = [(f_i[i] - f_i[i-1]) / h[i-1] - (h[i-1] / 3.0) * (2.0 * c[i-1] + c[i])\n",
    "         for i in range(1, len(h))]\n",
    "    \n",
    "    b.append((f_i[-1] - f_i[-2]) / h[-1] - (2.0 * h[-1] * c[-1]) / 3.0)\n",
    "\n",
    "    d = [(c[i] - c[i-1]) / (3.0 * h[i-1]) for i in range(1, len(h))]\n",
    "    d.append(-c[-1] / (3.0 * h[-1]))\n",
    "\n",
    "    for interval in range(len(x_i)):\n",
    "        if x_i[interval] <= x_ < x_i[interval + 1]:\n",
    "            i = interval\n",
    "            break\n",
    "\n",
    "    y_test = s(a[i + 1], b[i + 1], c[i + 1], d[i + 1], x_ - x_i[i])\n",
    "\n",
    "    return a, b, c, d, y_test\n",
    "\n",
    "def draw_plot(x_original, f_original, a, b, c, d):\n",
    "    x, y = [], []\n",
    "\n",
    "    for i in range(len(x_original) - 1):\n",
    "        x1 = np.linspace(x_original[i], x_original[i + 1], 10)\n",
    "        y1 = [s(a[i], b[i], c[i], d[i], j - x_original[i]) for j in x1]\n",
    "        x.append(x1)\n",
    "        y.append(y1)\n",
    "\n",
    "    plt.scatter(x_original, f_original, color='r')\n",
    "\n",
    "    for i in range(len(x_original) - 1):\n",
    "        plt.plot(x[i], y[i], color='b')\n",
    "\n",
    "    plt.title('03-02')\n",
    "    plt.show()"
   ]
  },
  {
   "cell_type": "code",
   "execution_count": null,
   "id": "5a118780",
   "metadata": {},
   "outputs": [
    {
     "data": {
      "image/png": "[encoded data removed]",
      "text/plain": [
       "<Figure size 640x480 with 1 Axes>"
      ]
     },
     "metadata": {},
     "output_type": "display_data"
    }
   ],
   "source": [
    "x_i = np.array([-0.4, -0.1, 0.2, 0.5, 0.8])\n",
    "f_i = np.array([1.9823, 1.6710, 1.3694, 1.0472, 0.64350])\n",
    "x_ = 0.1\n",
    "\n",
    "a, b, c, d, y = spline_interpolation(x_i, f_i, x_)\n",
    "\n",
    "draw_plot(x_i, f_i, a, b, c, d)"
   ]
  },
  {
   "cell_type": "code",
   "execution_count": 24,
   "id": "5b8675bf",
   "metadata": {},
   "outputs": [
    {
     "name": "stdout",
     "output_type": "stream",
     "text": [
      "[-0.4; -0.2)\n",
      "\n",
      "s(x) = 1.9823 - 1.7137(x + 0.4000) + 0.0000(x + 0.4000)^2 + 3.9295(x + 0.4000)^3\n",
      "\n",
      "[-0.2; 0.2)\n",
      "\n",
      "s(x) = 1.671 - 1.2421(x + 0.2000) + 2.3577(x + 0.2000)^2 - 2.8435(x + 0.2000)^3\n",
      "\n",
      "[0.2; 0.5)\n",
      "\n",
      "s(x) = 1.3694 - 0.8216(x - 0.2000) - 1.0544(x - 0.2000)^2 + 0.7099(x - 0.2000)^3\n",
      "\n",
      "[0.5; 0.8)\n",
      "\n",
      "s(x) = 1.0472 - 1.2626(x - 0.5000) - 0.4156(x - 0.5000)^2 + 0.4617(x - 0.5000)^3\n",
      "\n"
     ]
    }
   ],
   "source": [
    "for i in range(len(x_i) - 1):\n",
    "    print(f\"[{x_i[i]}; {x_i[i+1]})\\n\")\n",
    "    polynom = f's(x) = {a[i]:}+{b[i]:.4f}(x-{x_i[i]:.4f})+' \\\n",
    "              f'{c[i]:.4f}(x-{x_i[i]:.4f})^2+{d[i]:.4f}(x-{x_i[i]:.4f})^3'\n",
    "    print(f\"\" + format_polynom(polynom) + '\\n')"
   ]
  }
 ],
 "metadata": {
  "kernelspec": {
   "display_name": ".venv",
   "language": "python",
   "name": "python3"
  },
  "language_info": {
   "codemirror_mode": {
    "name": "ipython",
    "version": 3
   },
   "file_extension": ".py",
   "mimetype": "text/x-python",
   "name": "python",
   "nbconvert_exporter": "python",
   "pygments_lexer": "ipython3",
   "version": "3.13.2"
  }
 },
 "nbformat": 4,
 "nbformat_minor": 5
}
