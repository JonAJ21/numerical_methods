{
 "cells": [
  {
   "cell_type": "code",
   "execution_count": 8,
   "id": "473b2a89",
   "metadata": {},
   "outputs": [],
   "source": [
    "import numpy as np\n",
    "import re\n",
    "import copy\n",
    "import matplotlib.pyplot as plt"
   ]
  },
  {
   "cell_type": "code",
   "execution_count": 9,
   "id": "0360ea6e",
   "metadata": {},
   "outputs": [],
   "source": [
    "def format_polynom(polynom_str):\n",
    "    polynom_str = re.sub('--', '+', polynom_str)\n",
    "    polynom_str = re.sub(r'\\+-', '-', polynom_str)\n",
    "    polynom_str = re.sub('-', ' - ', polynom_str)\n",
    "    polynom_str = re.sub(r'\\+', ' + ', polynom_str)\n",
    "\n",
    "    return polynom_str"
   ]
  },
  {
   "cell_type": "code",
   "execution_count": 10,
   "id": "b0b474b0",
   "metadata": {},
   "outputs": [],
   "source": [
    "def lu_decompose(A):\n",
    "    n = len(A)\n",
    "    L = [[0 for _ in range(n)] for _ in range(n)]\n",
    "    U = copy.deepcopy(A)\n",
    "    \n",
    "    for k in range(1, n):\n",
    "        for i in range(k - 1, n):\n",
    "            for j in range(i, n):\n",
    "                L[j][i] = U[j][i] / U[i][i]\n",
    "\n",
    "        for i in range(k, n):\n",
    "            for j in range(k - 1, n):\n",
    "                U[i][j] = U[i][j] - L[i][k - 1] * U[k - 1][j]\n",
    "\n",
    "    return L, U\n",
    "\n",
    "def solve_system(lu, b):\n",
    "    L = lu[0]\n",
    "    U = lu[1]\n",
    "    n = len(L)\n",
    "    y = [0 for _ in range(n)]\n",
    "\n",
    "    for i in range(n):\n",
    "        s = 0\n",
    "\n",
    "        for j in range(i):\n",
    "            s += L[i][j] * y[j]\n",
    "        y[i] = (b[i] - s) / L[i][i]\n",
    "\n",
    "    x = [0 for _ in range(n)]\n",
    "\n",
    "    for i in range(n - 1, -1, -1):\n",
    "        s = 0\n",
    "\n",
    "        for j in range(n - 1, i - 1, -1):\n",
    "            s += U[i][j] * x[j]\n",
    "        x[i] = (y[i] - s) / U[i][i]\n",
    "\n",
    "    return x"
   ]
  },
  {
   "cell_type": "code",
   "execution_count": 11,
   "id": "4b2647c3",
   "metadata": {},
   "outputs": [],
   "source": [
    "def least_squares(x, y, n):\n",
    "    assert len(x) == len(y)\n",
    "    A = []\n",
    "    b = []\n",
    "\n",
    "    for k in range(n + 1):\n",
    "        A.append([sum(map(lambda x: x**(i + k), x)) for i in range(n + 1)])\n",
    "        b.append(sum(map(lambda x: x[0] * x[1]**k, zip(y, x))))\n",
    "\n",
    "    lu = lu_decompose(A)\n",
    "\n",
    "    return solve_system(lu, b)\n",
    "\n",
    "\n",
    "def p(coefs, x):\n",
    "    return sum([c * x**i for i, c in enumerate(coefs)])\n",
    "\n",
    "def sum_squared_errors(x, y, ls_coefs):\n",
    "    y_ls = [p(ls_coefs, x_i) for x_i in x]\n",
    "\n",
    "    return sum((y_i - y_ls_i)**2 for y_i, y_ls_i in zip(y, y_ls))"
   ]
  },
  {
   "cell_type": "code",
   "execution_count": 12,
   "id": "1a6d855b",
   "metadata": {},
   "outputs": [],
   "source": [
    "def draw_plot(x_i, y_i, ls1, ls2):\n",
    "    plt.scatter(x_i, y_i)\n",
    "    plt.plot(x_i, [p(ls1, i) for i in x_i], label='degree 1')\n",
    "    plt.plot(x_i, [p(ls2, i) for i in x_i], label='degree 2')\n",
    "    plt.title('03-03')\n",
    "    plt.legend()\n",
    "    plt.show()"
   ]
  },
  {
   "cell_type": "code",
   "execution_count": 13,
   "id": "27c3fb5e",
   "metadata": {},
   "outputs": [],
   "source": [
    "x_i = np.array([-0.7, -0.4, -0.1, 0.2, 0.5, 0.8])\n",
    "y_i = np.array([2.3462, 1.9823, 1.671, 1.3694, 1.0472, 0.6435])\n",
    "\n",
    "ls1 = least_squares(x_i, y_i, 1)\n",
    "ls2 = least_squares(x_i, y_i, 2)"
   ]
  },
  {
   "cell_type": "code",
   "execution_count": 14,
   "id": "30585f12",
   "metadata": {},
   "outputs": [
    {
     "data": {
      "image/png": "[encoded data removed]",
      "text/plain": [
       "<Figure size 640x480 with 1 Axes>"
      ]
     },
     "metadata": {},
     "output_type": "display_data"
    }
   ],
   "source": [
    "draw_plot(x_i, y_i, ls1, ls2)"
   ]
  },
  {
   "cell_type": "code",
   "execution_count": null,
   "id": "a39cc730",
   "metadata": {},
   "outputs": [],
   "source": [
    "\n",
    "print(f\"Least squares method, 1st degree\\n\")\n",
    "print(f\"P(x) = {format_polynom(f'{ls1[0]:.4f}+{ls1[1]:.4f}x')}\\n\")\n",
    "print(f\"Sum of squared errors = {sum_squared_errors(x_i, y_i, ls1)}\\n\")\n",
    "print(f\"Least squares method, 2nd degree\\n\")\n",
    "print(f\"P(x) = {format_polynom(f'{ls2[0]:.4f}+{ls2[1]:.4f}x+{ls2[2]:.4f}x^2')}\\n\")\n",
    "print(f\"Sum of squared errors = {sum_squared_errors(x_i, y_i, ls1)}\\n\")\n"
   ]
  }
 ],
 "metadata": {
  "kernelspec": {
   "display_name": ".venv",
   "language": "python",
   "name": "python3"
  },
  "language_info": {
   "codemirror_mode": {
    "name": "ipython",
    "version": 3
   },
   "file_extension": ".py",
   "mimetype": "text/x-python",
   "name": "python",
   "nbconvert_exporter": "python",
   "pygments_lexer": "ipython3",
   "version": "3.13.2"
  }
 },
 "nbformat": 4,
 "nbformat_minor": 5
}
