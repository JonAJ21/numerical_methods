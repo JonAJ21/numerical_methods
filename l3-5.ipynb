{
 "cells": [
  {
   "cell_type": "code",
   "execution_count": 5,
   "id": "11697807",
   "metadata": {},
   "outputs": [],
   "source": [
    "def rectangle_trapeze(f, l, r, h, is_rectangle=True):\n",
    "    if l > r:\n",
    "        return None\n",
    "    \n",
    "    result = 0\n",
    "    cur_x = l\n",
    "\n",
    "    while cur_x < r:\n",
    "        if is_rectangle:\n",
    "            result += f((cur_x + cur_x + h) * 0.5)\n",
    "        else:\n",
    "            result += 0.5*(f(cur_x + h) + f(cur_x))\n",
    "        cur_x += h\n",
    "\n",
    "    return h*result"
   ]
  },
  {
   "cell_type": "code",
   "execution_count": 6,
   "id": "3e1c2b6a",
   "metadata": {},
   "outputs": [],
   "source": [
    "def simpson(f, l, r, h):\n",
    "    if l > r:\n",
    "        return None\n",
    "    \n",
    "    while ((l - r) // h) % 2 != 0:\n",
    "        h *= 0.9\n",
    "\n",
    "    result = 0\n",
    "    cur_x = l + h\n",
    "\n",
    "    while cur_x < r:\n",
    "        result += f(cur_x - h) + 4 * f(cur_x) + f(cur_x + h)\n",
    "        cur_x += 2 * h\n",
    "\n",
    "    return result * h / 3"
   ]
  },
  {
   "cell_type": "code",
   "execution_count": 7,
   "id": "bcb03749",
   "metadata": {},
   "outputs": [],
   "source": [
    "def runge_romberg(Fh, Fkh, k, p):\n",
    "    return (Fh - Fkh) / (k**p - 1)"
   ]
  },
  {
   "cell_type": "code",
   "execution_count": 8,
   "id": "7b141af5",
   "metadata": {},
   "outputs": [],
   "source": [
    "x0 = 0\n",
    "xk = 2\n",
    "h1 = 0.5\n",
    "h2 = 0.25\n",
    "\n",
    "equation = lambda x: x / (x ** 2 + 9)"
   ]
  },
  {
   "cell_type": "code",
   "execution_count": 9,
   "id": "bc72f601",
   "metadata": {},
   "outputs": [],
   "source": [
    "rectangle_h1 = rectangle_trapeze(equation, x0, xk, h1)\n",
    "rectangle_h2 = rectangle_trapeze(equation, x0, xk, h2)\n",
    "\n",
    "trapeze_h1 = rectangle_trapeze(equation, x0, xk, h1, False)\n",
    "trapeze_h2 = rectangle_trapeze(equation, x0, xk, h2, False)\n",
    "\n",
    "simpson_h1 = simpson(equation, x0, xk, h1)\n",
    "simpson_h2 = simpson(equation, x0, xk, h2)"
   ]
  },
  {
   "cell_type": "code",
   "execution_count": 10,
   "id": "0478fa7c",
   "metadata": {},
   "outputs": [],
   "source": [
    "rectangle_runge_rombert = runge_romberg(rectangle_h1, rectangle_h2, h2 / h1, 2)\n",
    "trapeze_runge_rombert = runge_romberg(trapeze_h1, trapeze_h2, h2 / h1, 2)\n",
    "simpson_runge_rombert = runge_romberg(simpson_h1, simpson_h2, h2 / h1, 2)"
   ]
  },
  {
   "cell_type": "code",
   "execution_count": 12,
   "id": "4d6a267d",
   "metadata": {},
   "outputs": [
    {
     "name": "stdout",
     "output_type": "stream",
     "text": [
      "Rectangle method:\n",
      "\n",
      "Step 0.5: 0.1847192474595487\n",
      "\n",
      "Step 0.25: 0.18407516757447664\n",
      "\n",
      "Trapeze method:\n",
      "\n",
      "Step 0.5: 0.18215523215523216\n",
      "\n",
      "Step 0.25: 0.18343723980739043\n",
      "\n",
      "Simpson method:\n",
      "\n",
      "Step 0.5: 0.1838992838992839\n",
      "\n",
      "Step 0.25: 0.18386457569144318\n",
      "\n",
      "Runge Roberg method:\n",
      "\n",
      "Rectangle: -0.0008587731800960841\n",
      "\n",
      "Trapeze: 0.0017093435362110314\n",
      "\n",
      "Simpson: -4.627761045428169e-05\n",
      "\n"
     ]
    }
   ],
   "source": [
    "print(f\"Rectangle method:\\n\")\n",
    "print(f\"Step {h1}: {rectangle_h1}\\n\")\n",
    "print(f\"Step {h2}: {rectangle_h2}\\n\")\n",
    "print(f\"Trapeze method:\\n\")\n",
    "print(f\"Step {h1}: {trapeze_h1}\\n\")\n",
    "print(f\"Step {h2}: {trapeze_h2}\\n\")\n",
    "print(f\"Simpson method:\\n\")\n",
    "print(f\"Step {h1}: {simpson_h1}\\n\")\n",
    "print(f\"Step {h2}: {simpson_h2}\\n\")\n",
    "print(f\"Runge Roberg method:\\n\")\n",
    "print(f\"Rectangle: {rectangle_runge_rombert}\\n\")\n",
    "print(f\"Trapeze: {trapeze_runge_rombert}\\n\")\n",
    "print(f\"Simpson: {simpson_runge_rombert}\\n\")"
   ]
  }
 ],
 "metadata": {
  "kernelspec": {
   "display_name": ".venv",
   "language": "python",
   "name": "python3"
  },
  "language_info": {
   "codemirror_mode": {
    "name": "ipython",
    "version": 3
   },
   "file_extension": ".py",
   "mimetype": "text/x-python",
   "name": "python",
   "nbconvert_exporter": "python",
   "pygments_lexer": "ipython3",
   "version": "3.13.2"
  }
 },
 "nbformat": 4,
 "nbformat_minor": 5
}
